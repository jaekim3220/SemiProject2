{
 "cells": [
  {
   "cell_type": "markdown",
   "metadata": {},
   "source": [
    "# 주제2 : Top5 아티스트의 기간별 순위권 진입 횟수를 보여주는 plot 그래프를 생성\n",
    "\n",
    "1. 아티스트별 순위권 진입 횟수를 확인한다\n",
    "2. 순위권 진입 Top5 아티스트의 날짜별 순위권 진입 횟수를 확인\n",
    "3. 새로운 xlsx 파일을 생성 후 해당 파일로 그래프를 생성"
   ]
  },
  {
   "cell_type": "markdown",
   "metadata": {},
   "source": [
    "패키지 삽입"
   ]
  },
  {
   "cell_type": "code",
   "execution_count": 1,
   "metadata": {},
   "outputs": [],
   "source": [
    "from pandas import read_excel, DataFrame, pivot_table\n",
    "from matplotlib import pyplot as plt\n",
    "import numpy as np\n",
    "import seaborn as sb\n",
    "import sys"
   ]
  },
  {
   "cell_type": "markdown",
   "metadata": {},
   "source": [
    "데이터 가져오기"
   ]
  },
  {
   "cell_type": "code",
   "execution_count": 2,
   "metadata": {},
   "outputs": [
    {
     "data": {
      "text/html": [
       "<div>\n",
       "<style scoped>\n",
       "    .dataframe tbody tr th:only-of-type {\n",
       "        vertical-align: middle;\n",
       "    }\n",
       "\n",
       "    .dataframe tbody tr th {\n",
       "        vertical-align: top;\n",
       "    }\n",
       "\n",
       "    .dataframe thead th {\n",
       "        text-align: right;\n",
       "    }\n",
       "</style>\n",
       "<table border=\"1\" class=\"dataframe\">\n",
       "  <thead>\n",
       "    <tr style=\"text-align: right;\">\n",
       "      <th></th>\n",
       "      <th>순위</th>\n",
       "      <th>날짜</th>\n",
       "      <th>곡명</th>\n",
       "      <th>아티스트</th>\n",
       "      <th>앨범명</th>\n",
       "    </tr>\n",
       "  </thead>\n",
       "  <tbody>\n",
       "    <tr>\n",
       "      <th>0</th>\n",
       "      <td>1</td>\n",
       "      <td>20230601</td>\n",
       "      <td>퀸카 (Queencard)</td>\n",
       "      <td>(여자)아이들</td>\n",
       "      <td>I feel</td>\n",
       "    </tr>\n",
       "    <tr>\n",
       "      <th>1</th>\n",
       "      <td>2</td>\n",
       "      <td>20230601</td>\n",
       "      <td>Spicy</td>\n",
       "      <td>aespa</td>\n",
       "      <td>MY WORLD - The 3rd Mini Album</td>\n",
       "    </tr>\n",
       "    <tr>\n",
       "      <th>2</th>\n",
       "      <td>3</td>\n",
       "      <td>20230601</td>\n",
       "      <td>I AM</td>\n",
       "      <td>IVE (아이브)</td>\n",
       "      <td>I've IVE</td>\n",
       "    </tr>\n",
       "    <tr>\n",
       "      <th>3</th>\n",
       "      <td>4</td>\n",
       "      <td>20230601</td>\n",
       "      <td>UNFORGIVEN (feat. Nile Rodgers)</td>\n",
       "      <td>LE SSERAFIM (르세라핌)</td>\n",
       "      <td>UNFORGIVEN</td>\n",
       "    </tr>\n",
       "    <tr>\n",
       "      <th>4</th>\n",
       "      <td>5</td>\n",
       "      <td>20230601</td>\n",
       "      <td>Kitsch</td>\n",
       "      <td>IVE (아이브)</td>\n",
       "      <td>I've IVE</td>\n",
       "    </tr>\n",
       "    <tr>\n",
       "      <th>...</th>\n",
       "      <td>...</td>\n",
       "      <td>...</td>\n",
       "      <td>...</td>\n",
       "      <td>...</td>\n",
       "      <td>...</td>\n",
       "    </tr>\n",
       "    <tr>\n",
       "      <th>2895</th>\n",
       "      <td>96</td>\n",
       "      <td>20230629</td>\n",
       "      <td>NOT SORRY (Feat. pH-1) (Prod. by Slom)</td>\n",
       "      <td>이영지</td>\n",
       "      <td>쇼미더머니 11 Episode 3</td>\n",
       "    </tr>\n",
       "    <tr>\n",
       "      <th>2896</th>\n",
       "      <td>97</td>\n",
       "      <td>20230629</td>\n",
       "      <td>10X</td>\n",
       "      <td>SHINee (샤이니)</td>\n",
       "      <td>HARD - The 8th Album</td>\n",
       "    </tr>\n",
       "    <tr>\n",
       "      <th>2897</th>\n",
       "      <td>98</td>\n",
       "      <td>20230629</td>\n",
       "      <td>딱 10CM만</td>\n",
       "      <td>10CM\\n\\n\\n10CM</td>\n",
       "      <td>딱 10CM만</td>\n",
       "    </tr>\n",
       "    <tr>\n",
       "      <th>2898</th>\n",
       "      <td>99</td>\n",
       "      <td>20230629</td>\n",
       "      <td>The Feeling</td>\n",
       "      <td>SHINee (샤이니)</td>\n",
       "      <td>HARD - The 8th Album</td>\n",
       "    </tr>\n",
       "    <tr>\n",
       "      <th>2899</th>\n",
       "      <td>100</td>\n",
       "      <td>20230629</td>\n",
       "      <td>Candy (Feat. Zion.T)</td>\n",
       "      <td>박재범</td>\n",
       "      <td>Candy</td>\n",
       "    </tr>\n",
       "  </tbody>\n",
       "</table>\n",
       "<p>2900 rows × 5 columns</p>\n",
       "</div>"
      ],
      "text/plain": [
       "       순위        날짜                                      곡명  \\\n",
       "0       1  20230601                          퀸카 (Queencard)   \n",
       "1       2  20230601                                   Spicy   \n",
       "2       3  20230601                                    I AM   \n",
       "3       4  20230601         UNFORGIVEN (feat. Nile Rodgers)   \n",
       "4       5  20230601                                  Kitsch   \n",
       "...   ...       ...                                     ...   \n",
       "2895   96  20230629  NOT SORRY (Feat. pH-1) (Prod. by Slom)   \n",
       "2896   97  20230629                                     10X   \n",
       "2897   98  20230629                                 딱 10CM만   \n",
       "2898   99  20230629                             The Feeling   \n",
       "2899  100  20230629                    Candy (Feat. Zion.T)   \n",
       "\n",
       "                    아티스트                            앨범명  \n",
       "0                (여자)아이들                         I feel  \n",
       "1                  aespa  MY WORLD - The 3rd Mini Album  \n",
       "2              IVE (아이브)                       I've IVE  \n",
       "3     LE SSERAFIM (르세라핌)                     UNFORGIVEN  \n",
       "4              IVE (아이브)                       I've IVE  \n",
       "...                  ...                            ...  \n",
       "2895                 이영지             쇼미더머니 11 Episode 3  \n",
       "2896        SHINee (샤이니)           HARD - The 8th Album  \n",
       "2897      10CM\\n\\n\\n10CM                        딱 10CM만  \n",
       "2898        SHINee (샤이니)           HARD - The 8th Album  \n",
       "2899                 박재범                          Candy  \n",
       "\n",
       "[2900 rows x 5 columns]"
      ]
     },
     "execution_count": 2,
     "metadata": {},
     "output_type": "execute_result"
    }
   ],
   "source": [
    "# 동일 폴더에 있는 genie_chart.xlsx 데이터 추출\n",
    "xlsx = read_excel(\"C:\\\\Users\\\\jehyu\\\\Desktop\\\\SemiProject2\\\\main\\\\벅스일간차트_0601-0629.xlsx\")\n",
    "xlsx"
   ]
  },
  {
   "cell_type": "markdown",
   "metadata": {},
   "source": [
    "## 1. 아티스트별 순위권 진입 횟수를 확인\n",
    "\n",
    "추출 목표인 순위에 진입한 숫자가 많은 상위 5개 아티스트를 확인"
   ]
  },
  {
   "cell_type": "markdown",
   "metadata": {},
   "source": [
    "아티스트별 순위권 진입 횟수를 확인"
   ]
  },
  {
   "cell_type": "code",
   "execution_count": 3,
   "metadata": {},
   "outputs": [
    {
     "data": {
      "text/plain": [
       "아티스트\n",
       "IVE (아이브)             145\n",
       "NewJeans              145\n",
       "aespa                 122\n",
       "(여자)아이들               116\n",
       "LE SSERAFIM (르세라핌)    116\n",
       "                     ... \n",
       "EXO                     2\n",
       "임한별                     2\n",
       "프로미스나인                  2\n",
       "거미                      1\n",
       "Teddy Swims             1\n",
       "Name: count, Length: 87, dtype: int64"
      ]
     },
     "execution_count": 3,
     "metadata": {},
     "output_type": "execute_result"
    }
   ],
   "source": [
    "xlsxCount = xlsx['아티스트'].value_counts()\n",
    "xlsxCount"
   ]
  },
  {
   "cell_type": "markdown",
   "metadata": {},
   "source": [
    "head를 사용해 순위진입 횟수 상위 5위 아티스트를 시각화"
   ]
  },
  {
   "cell_type": "code",
   "execution_count": 4,
   "metadata": {},
   "outputs": [
    {
     "data": {
      "text/plain": [
       "아티스트\n",
       "IVE (아이브)             145\n",
       "NewJeans              145\n",
       "aespa                 122\n",
       "(여자)아이들               116\n",
       "LE SSERAFIM (르세라핌)    116\n",
       "Name: count, dtype: int64"
      ]
     },
     "execution_count": 4,
     "metadata": {},
     "output_type": "execute_result"
    }
   ],
   "source": [
    "xlsx1 = xlsxCount.head(5)\n",
    "xlsx1"
   ]
  },
  {
   "cell_type": "markdown",
   "metadata": {},
   "source": [
    "[IVE (아이브), NewJeans, aespa, (여자)아이들, LE SSERAFIM (르세라핌)]의 날짜별 순위권 진입 횟수 확인\n",
    "\n",
    "없으면 0"
   ]
  },
  {
   "cell_type": "markdown",
   "metadata": {},
   "source": [
    "## 2.순위권 진입 Top5 아티스트의 날짜별 순위권 진입 횟수를 추출"
   ]
  },
  {
   "cell_type": "code",
   "execution_count": 5,
   "metadata": {},
   "outputs": [
    {
     "data": {
      "text/html": [
       "<div>\n",
       "<style scoped>\n",
       "    .dataframe tbody tr th:only-of-type {\n",
       "        vertical-align: middle;\n",
       "    }\n",
       "\n",
       "    .dataframe tbody tr th {\n",
       "        vertical-align: top;\n",
       "    }\n",
       "\n",
       "    .dataframe thead th {\n",
       "        text-align: right;\n",
       "    }\n",
       "</style>\n",
       "<table border=\"1\" class=\"dataframe\">\n",
       "  <thead>\n",
       "    <tr style=\"text-align: right;\">\n",
       "      <th></th>\n",
       "      <th>날짜</th>\n",
       "      <th>아티스트</th>\n",
       "    </tr>\n",
       "  </thead>\n",
       "  <tbody>\n",
       "    <tr>\n",
       "      <th>0</th>\n",
       "      <td>20230601</td>\n",
       "      <td>(여자)아이들</td>\n",
       "    </tr>\n",
       "    <tr>\n",
       "      <th>1</th>\n",
       "      <td>20230601</td>\n",
       "      <td>aespa</td>\n",
       "    </tr>\n",
       "    <tr>\n",
       "      <th>2</th>\n",
       "      <td>20230601</td>\n",
       "      <td>IVE (아이브)</td>\n",
       "    </tr>\n",
       "    <tr>\n",
       "      <th>3</th>\n",
       "      <td>20230601</td>\n",
       "      <td>LE SSERAFIM (르세라핌)</td>\n",
       "    </tr>\n",
       "    <tr>\n",
       "      <th>4</th>\n",
       "      <td>20230601</td>\n",
       "      <td>IVE (아이브)</td>\n",
       "    </tr>\n",
       "    <tr>\n",
       "      <th>...</th>\n",
       "      <td>...</td>\n",
       "      <td>...</td>\n",
       "    </tr>\n",
       "    <tr>\n",
       "      <th>639</th>\n",
       "      <td>20230629</td>\n",
       "      <td>(여자)아이들</td>\n",
       "    </tr>\n",
       "    <tr>\n",
       "      <th>640</th>\n",
       "      <td>20230629</td>\n",
       "      <td>aespa</td>\n",
       "    </tr>\n",
       "    <tr>\n",
       "      <th>641</th>\n",
       "      <td>20230629</td>\n",
       "      <td>NewJeans</td>\n",
       "    </tr>\n",
       "    <tr>\n",
       "      <th>642</th>\n",
       "      <td>20230629</td>\n",
       "      <td>aespa</td>\n",
       "    </tr>\n",
       "    <tr>\n",
       "      <th>643</th>\n",
       "      <td>20230629</td>\n",
       "      <td>(여자)아이들</td>\n",
       "    </tr>\n",
       "  </tbody>\n",
       "</table>\n",
       "<p>644 rows × 2 columns</p>\n",
       "</div>"
      ],
      "text/plain": [
       "           날짜                아티스트\n",
       "0    20230601             (여자)아이들\n",
       "1    20230601               aespa\n",
       "2    20230601           IVE (아이브)\n",
       "3    20230601  LE SSERAFIM (르세라핌)\n",
       "4    20230601           IVE (아이브)\n",
       "..        ...                 ...\n",
       "639  20230629             (여자)아이들\n",
       "640  20230629               aespa\n",
       "641  20230629            NewJeans\n",
       "642  20230629               aespa\n",
       "643  20230629             (여자)아이들\n",
       "\n",
       "[644 rows x 2 columns]"
      ]
     },
     "execution_count": 5,
     "metadata": {},
     "output_type": "execute_result"
    }
   ],
   "source": [
    "df = xlsx.query(\"아티스트 == 'IVE (아이브)' or 아티스트 == 'NewJeans' or 아티스트 == 'aespa' or 아티스트 == '(여자)아이들' or 아티스트 == 'LE SSERAFIM (르세라핌)'\")\n",
    "df1 = df.filter(['날짜', '아티스트'])\n",
    "df1.reset_index(drop=True, inplace=True)\n",
    "df1"
   ]
  },
  {
   "cell_type": "markdown",
   "metadata": {},
   "source": [
    "### 날짜별 아티스트의 언급 횟수를 구하고 새로운 컬럼 생성"
   ]
  },
  {
   "cell_type": "code",
   "execution_count": 6,
   "metadata": {},
   "outputs": [
    {
     "data": {
      "text/html": [
       "<div>\n",
       "<style scoped>\n",
       "    .dataframe tbody tr th:only-of-type {\n",
       "        vertical-align: middle;\n",
       "    }\n",
       "\n",
       "    .dataframe tbody tr th {\n",
       "        vertical-align: top;\n",
       "    }\n",
       "\n",
       "    .dataframe thead th {\n",
       "        text-align: right;\n",
       "    }\n",
       "</style>\n",
       "<table border=\"1\" class=\"dataframe\">\n",
       "  <thead>\n",
       "    <tr style=\"text-align: right;\">\n",
       "      <th></th>\n",
       "      <th>날짜</th>\n",
       "      <th>아티스트</th>\n",
       "      <th>순위진입횟수</th>\n",
       "    </tr>\n",
       "  </thead>\n",
       "  <tbody>\n",
       "    <tr>\n",
       "      <th>0</th>\n",
       "      <td>20230601</td>\n",
       "      <td>(여자)아이들</td>\n",
       "      <td>4</td>\n",
       "    </tr>\n",
       "    <tr>\n",
       "      <th>1</th>\n",
       "      <td>20230601</td>\n",
       "      <td>IVE (아이브)</td>\n",
       "      <td>5</td>\n",
       "    </tr>\n",
       "    <tr>\n",
       "      <th>2</th>\n",
       "      <td>20230601</td>\n",
       "      <td>LE SSERAFIM (르세라핌)</td>\n",
       "      <td>4</td>\n",
       "    </tr>\n",
       "    <tr>\n",
       "      <th>3</th>\n",
       "      <td>20230601</td>\n",
       "      <td>NewJeans</td>\n",
       "      <td>5</td>\n",
       "    </tr>\n",
       "    <tr>\n",
       "      <th>4</th>\n",
       "      <td>20230601</td>\n",
       "      <td>aespa</td>\n",
       "      <td>6</td>\n",
       "    </tr>\n",
       "    <tr>\n",
       "      <th>...</th>\n",
       "      <td>...</td>\n",
       "      <td>...</td>\n",
       "      <td>...</td>\n",
       "    </tr>\n",
       "    <tr>\n",
       "      <th>140</th>\n",
       "      <td>20230629</td>\n",
       "      <td>(여자)아이들</td>\n",
       "      <td>4</td>\n",
       "    </tr>\n",
       "    <tr>\n",
       "      <th>141</th>\n",
       "      <td>20230629</td>\n",
       "      <td>IVE (아이브)</td>\n",
       "      <td>5</td>\n",
       "    </tr>\n",
       "    <tr>\n",
       "      <th>142</th>\n",
       "      <td>20230629</td>\n",
       "      <td>LE SSERAFIM (르세라핌)</td>\n",
       "      <td>4</td>\n",
       "    </tr>\n",
       "    <tr>\n",
       "      <th>143</th>\n",
       "      <td>20230629</td>\n",
       "      <td>NewJeans</td>\n",
       "      <td>5</td>\n",
       "    </tr>\n",
       "    <tr>\n",
       "      <th>144</th>\n",
       "      <td>20230629</td>\n",
       "      <td>aespa</td>\n",
       "      <td>4</td>\n",
       "    </tr>\n",
       "  </tbody>\n",
       "</table>\n",
       "<p>145 rows × 3 columns</p>\n",
       "</div>"
      ],
      "text/plain": [
       "           날짜                아티스트  순위진입횟수\n",
       "0    20230601             (여자)아이들       4\n",
       "1    20230601           IVE (아이브)       5\n",
       "2    20230601  LE SSERAFIM (르세라핌)       4\n",
       "3    20230601            NewJeans       5\n",
       "4    20230601               aespa       6\n",
       "..        ...                 ...     ...\n",
       "140  20230629             (여자)아이들       4\n",
       "141  20230629           IVE (아이브)       5\n",
       "142  20230629  LE SSERAFIM (르세라핌)       4\n",
       "143  20230629            NewJeans       5\n",
       "144  20230629               aespa       4\n",
       "\n",
       "[145 rows x 3 columns]"
      ]
     },
     "execution_count": 6,
     "metadata": {},
     "output_type": "execute_result"
    }
   ],
   "source": [
    "artist_counts = df1.groupby(['날짜','아티스트']).size().reset_index(name='순위진입횟수')\n",
    "# artist_counts.set_index('날짜', inplace=True)\n",
    "artist_counts.reset_index()\n",
    "artist_counts"
   ]
  },
  {
   "cell_type": "markdown",
   "metadata": {},
   "source": [
    "#### 아티스트를 분리해 데이터를 생성"
   ]
  },
  {
   "cell_type": "code",
   "execution_count": 7,
   "metadata": {},
   "outputs": [],
   "source": [
    "artist1 = artist_counts.query(\"아티스트 == 'IVE (아이브)'\")\n",
    "# artist1"
   ]
  },
  {
   "cell_type": "code",
   "execution_count": 8,
   "metadata": {},
   "outputs": [],
   "source": [
    "artist2 = artist_counts.query(\"아티스트 == 'NewJeans'\")\n",
    "# artist2"
   ]
  },
  {
   "cell_type": "code",
   "execution_count": 9,
   "metadata": {},
   "outputs": [],
   "source": [
    "artist3 = artist_counts.query(\"아티스트 == 'aespa'\")\n",
    "# artist3"
   ]
  },
  {
   "cell_type": "code",
   "execution_count": 10,
   "metadata": {},
   "outputs": [],
   "source": [
    "artist4 = artist_counts.query(\"아티스트 == '(여자)아이들'\")\n",
    "# artist4"
   ]
  },
  {
   "cell_type": "code",
   "execution_count": 11,
   "metadata": {},
   "outputs": [],
   "source": [
    "artist5 = artist_counts.query(\"아티스트 == 'LE SSERAFIM (르세라핌)'\")\n",
    "# artist5"
   ]
  },
  {
   "cell_type": "markdown",
   "metadata": {},
   "source": [
    "## 3. 새로운 xlsx 파일을 생성 후 해당 파일로 히스토그램으로 표현"
   ]
  },
  {
   "cell_type": "code",
   "execution_count": 12,
   "metadata": {},
   "outputs": [],
   "source": [
    "# artist_counts.to_excel(\"main2.xlsx\")"
   ]
  },
  {
   "cell_type": "markdown",
   "metadata": {},
   "source": [
    "`bins`로 구간의 정보(갯수)를 설정\n",
    "\n",
    "기준은 날짜"
   ]
  },
  {
   "cell_type": "code",
   "execution_count": 13,
   "metadata": {},
   "outputs": [],
   "source": [
    "hist1, bins1 = np.histogram(artist1['날짜'], bins=10)\n",
    "hist2, bins2 = np.histogram(artist2['날짜'], bins=10)\n",
    "hist3, bins3 = np.histogram(artist3['날짜'], bins=10)\n",
    "hist4, bins4 = np.histogram(artist4['날짜'], bins=10)\n",
    "hist5, bins5 = np.histogram(artist4['날짜'], bins=10)"
   ]
  },
  {
   "cell_type": "code",
   "execution_count": 14,
   "metadata": {},
   "outputs": [
    {
     "name": "stdout",
     "output_type": "stream",
     "text": [
      "[3 3 3 3 2 3 3 3 3 3]\n",
      "[20230601.  20230603.8 20230606.6 20230609.4 20230612.2 20230615.\n",
      " 20230617.8 20230620.6 20230623.4 20230626.2 20230629. ]\n"
     ]
    }
   ],
   "source": [
    "print(hist1)\n",
    "print(bins1)"
   ]
  },
  {
   "cell_type": "code",
   "execution_count": 15,
   "metadata": {},
   "outputs": [
    {
     "name": "stdout",
     "output_type": "stream",
     "text": [
      "[3 3 3 3 2 3 3 3 3 3]\n",
      "[20230601.  20230603.8 20230606.6 20230609.4 20230612.2 20230615.\n",
      " 20230617.8 20230620.6 20230623.4 20230626.2 20230629. ]\n"
     ]
    }
   ],
   "source": [
    "print(hist5)\n",
    "print(bins5)"
   ]
  },
  {
   "cell_type": "markdown",
   "metadata": {},
   "source": [
    "조회 결과를 도수분포표로 생성"
   ]
  },
  {
   "cell_type": "code",
   "execution_count": 16,
   "metadata": {},
   "outputs": [],
   "source": [
    "artists = [artist1, artist2, artist3, artist4, artist5]\n",
    "hist_artists = []\n",
    "\n",
    "for artist in artists:\n",
    "    hist, bins = np.histogram(artist['날짜'], bins=10)\n",
    "    info = []\n",
    "    \n",
    "    for i, v in enumerate(hist):\n",
    "        if i + 1 < len(hist):\n",
    "            tpl = \"%d이상 %d미만\"\n",
    "        else:\n",
    "            tpl = \"%d이상 %d이하\"\n",
    "\n",
    "        cls = tpl % (bins[i], bins[i+1])\n",
    "        line = {\"기간\": cls, \"도수\": v}\n",
    "        info.append(line)\n",
    "    \n",
    "    hist_artist = DataFrame(info)\n",
    "    hist_artist.set_index('기간', inplace=True)\n",
    "    hist_artists.append(hist_artist)\n",
    "# hist_artists"
   ]
  },
  {
   "cell_type": "markdown",
   "metadata": {},
   "source": [
    "5개의 히스토그램 생성"
   ]
  },
  {
   "cell_type": "code",
   "execution_count": 17,
   "metadata": {},
   "outputs": [],
   "source": [
    "hist_artist1 = hist_artists[0]  # artist1에 대한 히스토그램 결과\n",
    "hist_artist2 = hist_artists[1]  # artist2에 대한 히스토그램 결과\n",
    "hist_artist3 = hist_artists[2]  # artist3에 대한 히스토그램 결과\n",
    "hist_artist4 = hist_artists[3]  # artist4에 대한 히스토그램 결과\n",
    "hist_artist5 = hist_artists[4]  # artist5에 대한 히스토그램 결과"
   ]
  },
  {
   "cell_type": "markdown",
   "metadata": {},
   "source": [
    "그래프 전역 설정"
   ]
  },
  {
   "cell_type": "code",
   "execution_count": 18,
   "metadata": {},
   "outputs": [],
   "source": [
    "# 폰트 설정\n",
    "plt.rcParams['font.family'] = \"Malgun Gothic\"  # 윈도우 전용\n",
    "# 글자 크기\n",
    "plt.rcParams['font.size'] = 8\n",
    "# 그래프 크기 설정(inch)\n",
    "plt.rcParams[\"figure.figsize\"] = (18, 7)\n",
    "# 유니코드에서 음수 부호 설정\n",
    "plt.rcParams['axes.unicode_minus'] = False"
   ]
  },
  {
   "cell_type": "markdown",
   "metadata": {},
   "source": [
    "서브플롯 사용해 히스토그램 그리기"
   ]
  },
  {
   "cell_type": "code",
   "execution_count": 19,
   "metadata": {},
   "outputs": [
    {
     "data": {
      "image/png": "[encoded data removed]",
      "text/plain": [
       "<Figure size 1200x1500 with 5 Axes>"
      ]
     },
     "metadata": {},
     "output_type": "display_data"
    }
   ],
   "source": [
    "#--------------------------------------------------------------\n",
    "# 1행 5열의 영역을 생성한다\n",
    "#--------------------------------------------------------------\n",
    "\n",
    "fig, ((ax1),(ax2),(ax3),(ax4),(ax5)) = plt.subplots(5, 1, figsize=(12, 15))\n",
    "fig.subplots_adjust(hspace=0.44)\n",
    "fig.suptitle(\"아티스트별 순위권 진입 횟수\", fontsize=36, color='blue')\n",
    "\n",
    "#--------------------------------------------------------------\n",
    "# IVE (아이브) 히스토그램 생성\n",
    "#--------------------------------------------------------------\n",
    "sb.histplot(artist1['날짜'], bins=10, edgecolor='black', linewidth=1.2,ax=ax1)\n",
    "ax1.title.set_text(\"IVE (아이브)\")\n",
    "ax1.title.set_fontsize(18)\n",
    "ax1.title.set_color(\"#FF00FF\")\n",
    "ax1.set_xticks(bins1,bins1)\n",
    "ax1.grid()\n",
    "\n",
    "#--------------------------------------------------------------\n",
    "# NewJeans 히스토그램 생성\n",
    "#--------------------------------------------------------------\n",
    "sb.histplot(artist2['날짜'], bins=10, edgecolor='black', linewidth=1.2, ax=ax2)\n",
    "ax2.title.set_text(\"NewJeans\")\n",
    "ax2.title.set_fontsize(18)\n",
    "ax2.title.set_color(\"#38627e\")\n",
    "ax2.set_xticks(bins2,bins2)\n",
    "ax2.grid()\n",
    "\n",
    "#--------------------------------------------------------------\n",
    "# aespa 히스토그램 생성\n",
    "#--------------------------------------------------------------\n",
    "sb.histplot(artist2['날짜'], bins=10, edgecolor='black', linewidth=1.2, ax=ax3)\n",
    "ax3.title.set_text(\"aespa\")\n",
    "ax3.title.set_fontsize(18)\n",
    "ax3.title.set_color(\"#ff0025\")\n",
    "ax3.set_xticks(bins3,bins3)\n",
    "ax3.grid()\n",
    "\n",
    "#--------------------------------------------------------------\n",
    "# (여자)아이들 히스토그램 생성\n",
    "#--------------------------------------------------------------\n",
    "sb.histplot(artist2['날짜'], bins=10, edgecolor='black', linewidth=1.2, ax=ax4)\n",
    "ax4.title.set_text(\"(여자)아이들\")\n",
    "ax4.title.set_fontsize(18)\n",
    "ax4.title.set_color(\"#507297\")\n",
    "ax4.set_xticks(bins4,bins4)\n",
    "ax4.grid()\n",
    "\n",
    "#--------------------------------------------------------------\n",
    "# LE SSERAFIM (르세라핌) 히스토그램 생성\n",
    "#--------------------------------------------------------------\n",
    "sb.histplot(artist2['날짜'], bins=10, edgecolor='black', linewidth=1.2, ax=ax5)\n",
    "ax5.title.set_text(\"LE SSERAFIM (르세라핌)\")\n",
    "ax5.title.set_fontsize(18)\n",
    "ax5.title.set_color(\"#ffb7c5\")\n",
    "ax5.set_xticks(bins5,bins5)\n",
    "ax5.grid()\n",
    "\n",
    "plt.show()\n",
    "plt.close()"
   ]
  },
  {
   "cell_type": "code",
   "execution_count": null,
   "metadata": {},
   "outputs": [],
   "source": []
  }
 ],
 "metadata": {
  "kernelspec": {
   "display_name": "Python 3",
   "language": "python",
   "name": "python3"
  },
  "language_info": {
   "codemirror_mode": {
    "name": "ipython",
    "version": 3
   },
   "file_extension": ".py",
   "mimetype": "text/x-python",
   "name": "python",
   "nbconvert_exporter": "python",
   "pygments_lexer": "ipython3",
   "version": "3.11.0"
  },
  "orig_nbformat": 4
 },
 "nbformat": 4,
 "nbformat_minor": 2
}
